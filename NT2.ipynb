{
 "cells": [
  {
   "cell_type": "markdown",
   "metadata": {},
   "source": [
    "#### Вычисление всех меньших данного числа взаимно простых с ним чисел"
   ]
  },
  {
   "cell_type": "code",
   "execution_count": 8,
   "metadata": {},
   "outputs": [],
   "source": [
    "import numpy as np\n",
    "import math\n",
    "import xlwt\n",
    "from datetime import datetime"
   ]
  },
  {
   "cell_type": "code",
   "execution_count": 9,
   "metadata": {},
   "outputs": [],
   "source": [
    "wb = xlwt.Workbook()\n",
    "ws = wb.add_sheet('NT2')"
   ]
  },
  {
   "cell_type": "code",
   "execution_count": 10,
   "metadata": {},
   "outputs": [],
   "source": [
    "font0 = xlwt.Font()\n",
    "font0.name = 'Times New Roman'\n",
    "font0.colour_index = 8\n",
    "font0.bold = True\n",
    "\n",
    "style0 = xlwt.XFStyle()\n",
    "style0.font = font0"
   ]
  },
  {
   "cell_type": "code",
   "execution_count": 11,
   "metadata": {},
   "outputs": [],
   "source": [
    "ws.write(0,0,'N',style0)\n",
    "ws.write(0,1,'\\u03C6 (N)',style0)"
   ]
  },
  {
   "cell_type": "code",
   "execution_count": 12,
   "metadata": {},
   "outputs": [],
   "source": [
    "for N in range(100):\n",
    "    N=N+1\n",
    "    ws.write(N+1,0,N)\n",
    "    n=1\n",
    "    i=0\n",
    "    while n<N+1:\n",
    "        if math.gcd(N,n)==1:\n",
    "            ws.write(N+1,i+2,n)\n",
    "            i+=1 \n",
    "        n+=1 \n",
    "    ws.write(N+1,1,i)"
   ]
  },
  {
   "cell_type": "code",
   "execution_count": 13,
   "metadata": {},
   "outputs": [],
   "source": [
    "wb.save('nt2_temp.xls')"
   ]
  },
  {
   "cell_type": "code",
   "execution_count": null,
   "metadata": {},
   "outputs": [],
   "source": []
  }
 ],
 "metadata": {
  "kernelspec": {
   "display_name": "Python 3",
   "language": "python",
   "name": "python3"
  },
  "language_info": {
   "codemirror_mode": {
    "name": "ipython",
    "version": 3
   },
   "file_extension": ".py",
   "mimetype": "text/x-python",
   "name": "python",
   "nbconvert_exporter": "python",
   "pygments_lexer": "ipython3",
   "version": "3.7.3"
  }
 },
 "nbformat": 4,
 "nbformat_minor": 2
}
